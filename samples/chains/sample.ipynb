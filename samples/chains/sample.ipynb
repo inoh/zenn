{
 "cells": [
  {
   "cell_type": "markdown",
   "metadata": {},
   "source": [
    "## やりたいこと  \n",
    "指定された文章がある。  \n",
    "文章の中に半角文字または機種依存文字がある場合は指摘する。  \n",
    "また文章が小学生でもわかる表現にする。  \n",
    "\n",
    "## プロンプト例\n",
    "\n",
    "```text\n",
    "あなたは文章を分析し、改善するアシスタントです。与えられた文章に対して、以下の2つのタスクを行ってください：\n",
    "\n",
    "1. 半角文字または機種依存文字の有無を確認する\n",
    "2. 小学生でも理解できるように文章を簡単にする\n",
    "\n",
    "以下の文章を分析してください：\n",
    "\n",
    "<text>\n",
    "{{TEXT}}\n",
    "</text>\n",
    "\n",
    "まず、文章内に半角文字または機種依存文字があるかどうかを確認してください。もしあれば、その文字と位置を指摘してください。\n",
    "\n",
    "次に、文章を小学生でも理解できるように簡単な表現に書き換えてください。難しい言葉や表現は、より簡単で分かりやすい言葉に置き換えてください。\n",
    "\n",
    "あなたの回答は以下の形式で提供してください：\n",
    "\n",
    "<回答>\n",
    "1. 半角文字・機種依存文字の確認：\n",
    "   [ここに半角文字または機種依存文字の有無、ある場合はその文字と位置を記述]\n",
    "\n",
    "2. 簡単な表現に書き換えた文章：\n",
    "   [ここに小学生でも理解できるように書き換えた文章を記述]\n",
    "</回答>\n",
    "\n",
    "回答は日本語で提供してください。\n",
    "```\n",
    "\n",
    "## 参考\n",
    "- https://note.com/thediaryof/n/nc6a165235d06"
   ]
  },
  {
   "cell_type": "code",
   "execution_count": 1,
   "metadata": {},
   "outputs": [
    {
     "name": "stdout",
     "output_type": "stream",
     "text": [
      "Requirement already satisfied: langchain==0.2.6 in /Users/inouehiroyuki/.pyenv/versions/3.12.2/lib/python3.12/site-packages (0.2.6)\n",
      "Requirement already satisfied: PyYAML>=5.3 in /Users/inouehiroyuki/.pyenv/versions/3.12.2/lib/python3.12/site-packages (from langchain==0.2.6) (6.0.1)\n",
      "Requirement already satisfied: SQLAlchemy<3,>=1.4 in /Users/inouehiroyuki/.pyenv/versions/3.12.2/lib/python3.12/site-packages (from langchain==0.2.6) (2.0.30)\n",
      "Requirement already satisfied: aiohttp<4.0.0,>=3.8.3 in /Users/inouehiroyuki/.pyenv/versions/3.12.2/lib/python3.12/site-packages (from langchain==0.2.6) (3.9.5)\n",
      "Requirement already satisfied: langchain-core<0.3.0,>=0.2.10 in /Users/inouehiroyuki/.pyenv/versions/3.12.2/lib/python3.12/site-packages (from langchain==0.2.6) (0.2.11)\n",
      "Requirement already satisfied: langchain-text-splitters<0.3.0,>=0.2.0 in /Users/inouehiroyuki/.pyenv/versions/3.12.2/lib/python3.12/site-packages (from langchain==0.2.6) (0.2.1)\n",
      "Requirement already satisfied: langsmith<0.2.0,>=0.1.17 in /Users/inouehiroyuki/.pyenv/versions/3.12.2/lib/python3.12/site-packages (from langchain==0.2.6) (0.1.75)\n",
      "Requirement already satisfied: numpy<2.0.0,>=1.26.0 in /Users/inouehiroyuki/.pyenv/versions/3.12.2/lib/python3.12/site-packages (from langchain==0.2.6) (1.26.4)\n",
      "Requirement already satisfied: pydantic<3,>=1 in /Users/inouehiroyuki/.pyenv/versions/3.12.2/lib/python3.12/site-packages (from langchain==0.2.6) (2.7.3)\n",
      "Requirement already satisfied: requests<3,>=2 in /Users/inouehiroyuki/.pyenv/versions/3.12.2/lib/python3.12/site-packages (from langchain==0.2.6) (2.32.3)\n",
      "Requirement already satisfied: tenacity!=8.4.0,<9.0.0,>=8.1.0 in /Users/inouehiroyuki/.pyenv/versions/3.12.2/lib/python3.12/site-packages (from langchain==0.2.6) (8.3.0)\n",
      "Requirement already satisfied: aiosignal>=1.1.2 in /Users/inouehiroyuki/.pyenv/versions/3.12.2/lib/python3.12/site-packages (from aiohttp<4.0.0,>=3.8.3->langchain==0.2.6) (1.3.1)\n",
      "Requirement already satisfied: attrs>=17.3.0 in /Users/inouehiroyuki/.pyenv/versions/3.12.2/lib/python3.12/site-packages (from aiohttp<4.0.0,>=3.8.3->langchain==0.2.6) (23.2.0)\n",
      "Requirement already satisfied: frozenlist>=1.1.1 in /Users/inouehiroyuki/.pyenv/versions/3.12.2/lib/python3.12/site-packages (from aiohttp<4.0.0,>=3.8.3->langchain==0.2.6) (1.4.1)\n",
      "Requirement already satisfied: multidict<7.0,>=4.5 in /Users/inouehiroyuki/.pyenv/versions/3.12.2/lib/python3.12/site-packages (from aiohttp<4.0.0,>=3.8.3->langchain==0.2.6) (6.0.5)\n",
      "Requirement already satisfied: yarl<2.0,>=1.0 in /Users/inouehiroyuki/.pyenv/versions/3.12.2/lib/python3.12/site-packages (from aiohttp<4.0.0,>=3.8.3->langchain==0.2.6) (1.9.4)\n",
      "Requirement already satisfied: jsonpatch<2.0,>=1.33 in /Users/inouehiroyuki/.pyenv/versions/3.12.2/lib/python3.12/site-packages (from langchain-core<0.3.0,>=0.2.10->langchain==0.2.6) (1.33)\n",
      "Requirement already satisfied: packaging<25,>=23.2 in /Users/inouehiroyuki/.local/lib/python3.12/site-packages (from langchain-core<0.3.0,>=0.2.10->langchain==0.2.6) (24.0)\n",
      "Requirement already satisfied: orjson<4.0.0,>=3.9.14 in /Users/inouehiroyuki/.pyenv/versions/3.12.2/lib/python3.12/site-packages (from langsmith<0.2.0,>=0.1.17->langchain==0.2.6) (3.10.3)\n",
      "Requirement already satisfied: annotated-types>=0.4.0 in /Users/inouehiroyuki/.pyenv/versions/3.12.2/lib/python3.12/site-packages (from pydantic<3,>=1->langchain==0.2.6) (0.7.0)\n",
      "Requirement already satisfied: pydantic-core==2.18.4 in /Users/inouehiroyuki/.pyenv/versions/3.12.2/lib/python3.12/site-packages (from pydantic<3,>=1->langchain==0.2.6) (2.18.4)\n",
      "Requirement already satisfied: typing-extensions>=4.6.1 in /Users/inouehiroyuki/.pyenv/versions/3.12.2/lib/python3.12/site-packages (from pydantic<3,>=1->langchain==0.2.6) (4.12.2)\n",
      "Requirement already satisfied: charset-normalizer<4,>=2 in /Users/inouehiroyuki/.pyenv/versions/3.12.2/lib/python3.12/site-packages (from requests<3,>=2->langchain==0.2.6) (3.3.2)\n",
      "Requirement already satisfied: idna<4,>=2.5 in /Users/inouehiroyuki/.pyenv/versions/3.12.2/lib/python3.12/site-packages (from requests<3,>=2->langchain==0.2.6) (3.7)\n",
      "Requirement already satisfied: urllib3<3,>=1.21.1 in /Users/inouehiroyuki/.pyenv/versions/3.12.2/lib/python3.12/site-packages (from requests<3,>=2->langchain==0.2.6) (2.2.1)\n",
      "Requirement already satisfied: certifi>=2017.4.17 in /Users/inouehiroyuki/.pyenv/versions/3.12.2/lib/python3.12/site-packages (from requests<3,>=2->langchain==0.2.6) (2024.6.2)\n",
      "Requirement already satisfied: jsonpointer>=1.9 in /Users/inouehiroyuki/.pyenv/versions/3.12.2/lib/python3.12/site-packages (from jsonpatch<2.0,>=1.33->langchain-core<0.3.0,>=0.2.10->langchain==0.2.6) (2.4)\n",
      "\n",
      "\u001b[1m[\u001b[0m\u001b[34;49mnotice\u001b[0m\u001b[1;39;49m]\u001b[0m\u001b[39;49m A new release of pip is available: \u001b[0m\u001b[31;49m24.0\u001b[0m\u001b[39;49m -> \u001b[0m\u001b[32;49m24.1.1\u001b[0m\n",
      "\u001b[1m[\u001b[0m\u001b[34;49mnotice\u001b[0m\u001b[1;39;49m]\u001b[0m\u001b[39;49m To update, run: \u001b[0m\u001b[32;49mpip install --upgrade pip\u001b[0m\n"
     ]
    }
   ],
   "source": [
    "!pip install langchain==0.2.6"
   ]
  },
  {
   "cell_type": "code",
   "execution_count": 2,
   "metadata": {},
   "outputs": [],
   "source": [
    "from langchain.prompts import load_prompt"
   ]
  },
  {
   "cell_type": "markdown",
   "metadata": {},
   "source": [
    "フィーショットプロンプト"
   ]
  }
 ],
 "metadata": {
  "kernelspec": {
   "display_name": "Python 3",
   "language": "python",
   "name": "python3"
  },
  "language_info": {
   "codemirror_mode": {
    "name": "ipython",
    "version": 3
   },
   "file_extension": ".py",
   "mimetype": "text/x-python",
   "name": "python",
   "nbconvert_exporter": "python",
   "pygments_lexer": "ipython3",
   "version": "3.12.2"
  }
 },
 "nbformat": 4,
 "nbformat_minor": 2
}
